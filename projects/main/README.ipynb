{
 "metadata": {
  "language_info": {
   "codemirror_mode": {
    "name": "ipython",
    "version": 3
   },
   "file_extension": ".py",
   "mimetype": "text/x-python",
   "name": "python",
   "nbconvert_exporter": "python",
   "pygments_lexer": "ipython3",
   "version": "3.8.2-final"
  },
  "orig_nbformat": 2,
  "kernelspec": {
   "name": "python3",
   "display_name": "Python 3.8.2 64-bit",
   "metadata": {
    "interpreter": {
     "hash": "3b52be01f4cd844c2681fee0a9befafaeb02812fec3bee8a945669dfa4a12531"
    }
   }
  }
 },
 "nbformat": 4,
 "nbformat_minor": 2,
 "cells": [
  {
   "source": [
    "# What is Supermeowkat?\n",
    "\n",
    "\n",
    "## Is it for commercial intent, anti-hegemony activism, or research?\n",
    "\n",
    "It's a funny thing. Long ago I conceived of explorations to undertake but never had the stability for them. Now I set out to build a loose commercial experiment and it very quickly drifted into my desires for those latent ideas. As it turns out, then, this app will attempt to balance three aims:\n",
    "\n",
    "- Commercial intent. This app seeks popular commercial success. I want to see how large of a user base it can achieve, if any at all.\n",
    "\n",
    "- Anti-hegemony activism. I'm tired of the USA exporting its puritanical values across the world by virtue of its stranglehold on the internet. I will try to bolster the presence of other countries through this app. * Explain history and method.\n",
    "\n",
    "- Research. Call it participant observation, action research, practice as research, or some other newfangled academic thing, doesn't matter. I think I'd like to be open about the many things that go into an app like this. User base, revenue, costs, how business considerations mesh with personal inclinations, and so on. It'll me understand the world, and maybe myself, a little bit better.\n",
    "\n",
    "\n",
    "## How clear should the app be on my political leanings?\n",
    "\n",
    "For convenience I ignore subtleties and cleave a divide between liberals and conservatives in this piece.\n",
    "\n",
    "One reason I'm building this app is, I want to provide one more way people like me can get together. To that end, the app needs to signal that it's built for them, and to signal to conservatives to please go away.\n",
    "\n",
    "I thought a manifesto might be the most straightforward way to do these so I drafted one. It contains these at the beginning:\n",
    "\n",
    "- American exceptionalism must end.\n",
    "\n",
    "- China must close down its concentration camps and free all Uighurs at once.\n",
    "\n",
    "- Thumbs up for the Milk Tea Alliance.\n",
    "\n",
    "- End lese majeste in Thailand. End the military coup in Myanmar.\n",
    "\n",
    "But now I feel it's too blunt.\n",
    "\n",
    "On the one hand, we need to signal. On the other, completely severing the conservative population means:\n",
    "\n",
    "- Market share contracts.\n",
    "\n",
    "- That segment of the conservative population that might be absorbed into the liberal fold stay away.\n",
    "\n",
    "- Chance of attackers increase.\n",
    "\n",
    "Perhaps a subtler way of working in support for basic human rights and decency would serve my aims better. This may be done such as through the use of graphics that include the bauhinia flower, the three-finger salute, the yellow umbrella, the lennon wall, backgrounds that reference Uyghur or Rohingya societies, and other art.\n",
    "\n",
    "## How to define the balance between the need for market share and the need for independence?\n",
    "\n",
    "Idk yet.\n",
    "\n",
    "\n",
    "## Marketing\n",
    "\n",
    "### Twitter\n",
    "\n",
    "So boring. But it's the only thing I've time for right now.\n",
    "\n",
    "### Paid ads on Twitter and Facebook\n",
    "\n",
    "Gotta try these. Also paid ads elsewhere. I think the data might be cool to have. Like, how much investment leads to how much conversion.\n",
    "\n",
    "We know Facebook lies and cannot be trusted one bit. But do its ads still make a difference? Or are they a complete waste of money?\n",
    "\n",
    "### Commissioning web assets\n",
    "\n",
    "Commission artists and designers to create icons, backgrounds, and other visuals for the look of the app. Ask artists for cross-posts.\n",
    "\n",
    "### Commission swag\n",
    "\n",
    "Commission artists and designers to produce plushies, posters, and other things that can be sold or given to users. Ask artists for cross-posts.\n",
    "\n",
    "### Cute offensive\n",
    "\n",
    "Full frontal cute offensive weaponising techniques pioneered by Hello Kitty, Keroppi, and their ilk."
   ],
   "cell_type": "markdown",
   "metadata": {}
  }
 ]
}